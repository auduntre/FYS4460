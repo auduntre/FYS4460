{
 "cells": [
  {
   "cell_type": "code",
   "execution_count": 1,
   "metadata": {},
   "outputs": [],
   "source": [
    "from pylab import *\n",
    "from percolation_cluster import visualize_percolation_cluster as P\n",
    "from percolation_cluster import Percolation_Cluster\n",
    "\n",
    "%load_ext autoreload\n",
    "%autoreload 2\n",
    "\n",
    "%matplotlib inline"
   ]
  },
  {
   "cell_type": "code",
   "execution_count": 2,
   "metadata": {},
   "outputs": [],
   "source": [
    "rcParams['figure.figsize'] = (12, 8)"
   ]
  },
  {
   "cell_type": "code",
   "execution_count": 3,
   "metadata": {},
   "outputs": [
    {
     "name": "stdout",
     "output_type": "stream",
     "text": [
      "[[False False False ...  True False  True]\n",
      " [ True False  True ...  True  True False]\n",
      " [ True  True False ... False False  True]\n",
      " ...\n",
      " [ True  True False ...  True  True  True]\n",
      " [ True  True False ...  True  True  True]\n",
      " [ True False  True ...  True  True  True]]\n"
     ]
    }
   ],
   "source": [
    "L = 100\n",
    "p = 0.6\n",
    "\n",
    "P = Percolation_Cluster(p, L)\n",
    "z = P()\n",
    "lw, num = P.get_labels()\n",
    "print(z)"
   ]
  },
  {
   "cell_type": "code",
   "execution_count": 4,
   "metadata": {},
   "outputs": [
    {
     "data": {
      "text/plain": [
       "284"
      ]
     },
     "execution_count": 4,
     "metadata": {},
     "output_type": "execute_result"
    }
   ],
   "source": [
    "num"
   ]
  },
  {
   "cell_type": "code",
   "execution_count": 5,
   "metadata": {},
   "outputs": [
    {
     "data": {
      "text/plain": [
       "array([[ 0,  0,  0,  1,  0,  0,  2,  2,  2,  2],\n",
       "       [ 1,  0,  1,  1,  0,  0,  2,  2,  0,  2],\n",
       "       [ 1,  1,  0,  1,  1,  0,  2,  0,  0,  0],\n",
       "       [ 1,  1,  1,  1,  0,  0,  2,  2,  0,  0],\n",
       "       [ 1,  0,  0,  0, 23,  0,  0,  0, 24, 24],\n",
       "       [ 1,  1,  1,  1,  0,  0,  0,  0, 24, 24],\n",
       "       [ 1,  1,  0,  0, 29, 29,  0, 24, 24, 24],\n",
       "       [ 1,  1,  0,  0, 29,  0, 24, 24, 24, 24],\n",
       "       [ 0,  0,  0,  0,  0,  0, 24, 24,  0, 24],\n",
       "       [ 0,  0, 36, 36,  0,  0,  0, 24, 24,  0]], dtype=int32)"
      ]
     },
     "execution_count": 5,
     "metadata": {},
     "output_type": "execute_result"
    }
   ],
   "source": [
    "lw[:10, :10]"
   ]
  },
  {
   "cell_type": "code",
   "execution_count": 6,
   "metadata": {},
   "outputs": [
    {
     "data": {
      "image/png": "[encoded data removed]",
      "text/plain": [
       "<Figure size 864x576 with 1 Axes>"
      ]
     },
     "metadata": {
      "needs_background": "light"
     },
     "output_type": "display_data"
    }
   ],
   "source": [
    "label_img = P.visualize_label()"
   ]
  },
  {
   "cell_type": "code",
   "execution_count": null,
   "metadata": {},
   "outputs": [],
   "source": []
  }
 ],
 "metadata": {
  "kernelspec": {
   "display_name": "Python [conda env:MDpy27]",
   "language": "python",
   "name": "conda-env-MDpy27-py"
  },
  "language_info": {
   "codemirror_mode": {
    "name": "ipython",
    "version": 2
   },
   "file_extension": ".py",
   "mimetype": "text/x-python",
   "name": "python",
   "nbconvert_exporter": "python",
   "pygments_lexer": "ipython2",
   "version": "2.7.15"
  }
 },
 "nbformat": 4,
 "nbformat_minor": 2
}
