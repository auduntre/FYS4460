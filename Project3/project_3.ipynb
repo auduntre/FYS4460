{
 "cells": [
  {
   "cell_type": "code",
   "execution_count": 1,
   "metadata": {},
   "outputs": [],
   "source": [
    "from pylab import *\n",
    "from visualize_percolation_cluster import visualize_percolation_cluster as P\n",
    "from visualize_percolation_cluster import Percolation_Cluster\n",
    "\n",
    "%load_ext autoreload\n",
    "%autoreload 2"
   ]
  },
  {
   "cell_type": "code",
   "execution_count": 2,
   "metadata": {},
   "outputs": [
    {
     "data": {
      "image/png": "[encoded data removed]",
      "text/plain": [
       "<Figure size 432x288 with 1 Axes>"
      ]
     },
     "metadata": {
      "needs_background": "light"
     },
     "output_type": "display_data"
    }
   ],
   "source": [
    "L = 100\n",
    "p = 0.4\n",
    "P(p, L)"
   ]
  },
  {
   "cell_type": "code",
   "execution_count": 5,
   "metadata": {},
   "outputs": [
    {
     "data": {
      "image/png": "[encoded data removed]",
      "text/plain": [
       "<Figure size 432x288 with 1 Axes>"
      ]
     },
     "metadata": {
      "needs_background": "light"
     },
     "output_type": "display_data"
    }
   ],
   "source": [
    "pc = Percolation_Cluster(p, L)\n",
    "pc.visualize()\n",
    "lw, num = pc.get_labels()"
   ]
  },
  {
   "cell_type": "code",
   "execution_count": 6,
   "metadata": {},
   "outputs": [
    {
     "data": {
      "text/plain": [
       "1106"
      ]
     },
     "execution_count": 6,
     "metadata": {},
     "output_type": "execute_result"
    }
   ],
   "source": [
    "num"
   ]
  },
  {
   "cell_type": "code",
   "execution_count": 7,
   "metadata": {},
   "outputs": [
    {
     "data": {
      "text/plain": [
       "array([[  0,   1,   0,   2,   2,   0,   0,   3,   3,   0],\n",
       "       [  0,   1,   0,   2,   2,   0,   0,   0,   0,   4],\n",
       "       [ 37,   0,   2,   2,   2,   2,   2,   2,   2,   0],\n",
       "       [ 37,  37,   0,   2,   0,   0,   0,   0,   2,   2],\n",
       "       [  0,  37,   0,   0,   0,   0,   0,   2,   2,   0],\n",
       "       [ 37,  37,   0,  67,   0,   0,   0,   2,   2,   0],\n",
       "       [ 37,   0,  37,   0,  80,  80,   0,   0,   0,   0],\n",
       "       [ 37,   0,  37,  37,   0,  80,   0,  89,  89,  89],\n",
       "       [ 37,  37,  37,   0, 103,   0,   0,   0,   0,  89],\n",
       "       [  0,   0,  37,   0,   0, 116,   0, 117, 117,   0]], dtype=int32)"
      ]
     },
     "execution_count": 7,
     "metadata": {},
     "output_type": "execute_result"
    }
   ],
   "source": [
    "lw[:10, :10]"
   ]
  },
  {
   "cell_type": "code",
   "execution_count": null,
   "metadata": {},
   "outputs": [],
   "source": []
  }
 ],
 "metadata": {
  "kernelspec": {
   "display_name": "Python 2",
   "language": "python",
   "name": "python2"
  },
  "language_info": {
   "codemirror_mode": {
    "name": "ipython",
    "version": 2
   },
   "file_extension": ".py",
   "mimetype": "text/x-python",
   "name": "python",
   "nbconvert_exporter": "python",
   "pygments_lexer": "ipython2",
   "version": "2.7.15rc1"
  }
 },
 "nbformat": 4,
 "nbformat_minor": 2
}
