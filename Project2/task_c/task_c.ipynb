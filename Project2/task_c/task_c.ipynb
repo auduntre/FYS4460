{
 "cells": [
  {
   "cell_type": "code",
   "execution_count": 1,
   "metadata": {},
   "outputs": [
    {
     "name": "stdout",
     "output_type": "stream",
     "text": [
      "Pizza.py (9 Oct 2015), a toolkit written in Python\n",
      "type ? for help, CTRL-D to quit\n",
      "Loading tools ...\n",
      "animate tool did not load:\n",
      "  No module named ImageTk\n",
      "image tool did not load:\n",
      "  No module named Pmw\n",
      "gl tool did not load:\n",
      "  No module named OpenGL.Tk\n"
     ]
    }
   ],
   "source": [
    "from pylab import *\n",
    "\n",
    "%run ~/pizza/src/pizza.py\n",
    "%matplotlib inline"
   ]
  },
  {
   "cell_type": "code",
   "execution_count": 2,
   "metadata": {},
   "outputs": [
    {
     "name": "stdout",
     "output_type": "stream",
     "text": [
      "200 210 220 230 240 250 260 270 280 290 300 310 320 330 340 350 360 370 380 390 400 410 420 430 440 450 460 470 480 490 500 510 520 530 540 550 560 570 580 590 600 610 620 630 640 650 660 670 680 690 700 710 720 730 740 750 760 770 780 790 800 810 820 830 840 850 860 870 880 890 900 910 920 930 940 950 960 970 980 990 1000 1010 1020 1030 1040 1050 1060 1070 1080 1090 1100 1110 1120 1130 1140 1150 1160 1170 1180 1190 1200\n",
      "read 101 snapshots\n",
      "101 snapshots selected out of 101\n",
      "assigned columns: id type x y z vx vy vz v_g \n",
      "dump is already unscaled\n"
     ]
    }
   ],
   "source": [
    "data = dump(\"dump.lammpstrj\")"
   ]
  },
  {
   "cell_type": "code",
   "execution_count": 3,
   "metadata": {},
   "outputs": [],
   "source": [
    "rcParams['figure.figsize'] = [10, 8]\n",
    "rcParams['font.size'] = 16"
   ]
  },
  {
   "cell_type": "code",
   "execution_count": 4,
   "metadata": {},
   "outputs": [
    {
     "name": "stdout",
     "output_type": "stream",
     "text": [
      "32000\n"
     ]
    }
   ],
   "source": [
    "t = data.time(); nt = size(t); tmp_time, box, atoms, bonds, tris, lines = data.viz(0)\n",
    "print(len(atoms))"
   ]
  },
  {
   "cell_type": "code",
   "execution_count": 5,
   "metadata": {},
   "outputs": [
    {
     "name": "stdout",
     "output_type": "stream",
     "text": [
      "Porosity phi = 0.5105\n"
     ]
    }
   ],
   "source": [
    "gmatrix = array(data.vecs(t[0], \"v_g\"))\n",
    "porosity = np.sum(gmatrix)/gmatrix.shape[0]\n",
    "\n",
    "print \"Porosity phi = {}\".format(porosity)"
   ]
  },
  {
   "cell_type": "code",
   "execution_count": 6,
   "metadata": {},
   "outputs": [
    {
     "name": "stdout",
     "output_type": "stream",
     "text": [
      "Porosity phi = 0.5105\n"
     ]
    }
   ],
   "source": [
    "gmatrix = array(data.vecs(t[-1], \"v_g\"))\n",
    "porosity = np.sum(gmatrix)/gmatrix.shape[0]\n",
    "\n",
    "print \"Porosity phi = {}\".format(porosity)"
   ]
  },
  {
   "cell_type": "code",
   "execution_count": null,
   "metadata": {},
   "outputs": [],
   "source": []
  }
 ],
 "metadata": {
  "kernelspec": {
   "display_name": "Python 2",
   "language": "python",
   "name": "python2"
  },
  "language_info": {
   "codemirror_mode": {
    "name": "ipython",
    "version": 2
   },
   "file_extension": ".py",
   "mimetype": "text/x-python",
   "name": "python",
   "nbconvert_exporter": "python",
   "pygments_lexer": "ipython2",
   "version": "2.7.15rc1"
  }
 },
 "nbformat": 4,
 "nbformat_minor": 2
}
