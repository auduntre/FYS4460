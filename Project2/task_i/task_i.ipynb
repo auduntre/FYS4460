{
 "cells": [
  {
   "cell_type": "code",
   "execution_count": 1,
   "metadata": {},
   "outputs": [
    {
     "name": "stdout",
     "output_type": "stream",
     "text": [
      "Pizza.py (9 Oct 2015), a toolkit written in Python\n",
      "type ? for help, CTRL-D to quit\n",
      "Loading tools ...\n",
      "gl tool did not load:\n",
      "  No module named OpenGL.Tk\n",
      "image tool did not load:\n",
      "  No module named Pmw\n",
      "animate tool did not load:\n",
      "  No module named ImageTk\n"
     ]
    }
   ],
   "source": [
    "from pylab import *\n",
    "\n",
    "%run ~/pizza/src/pizza.py\n",
    "%matplotlib inline"
   ]
  },
  {
   "cell_type": "code",
   "execution_count": 2,
   "metadata": {},
   "outputs": [],
   "source": [
    "from numba import njit\n",
    "import seaborn as sns\n",
    "\n",
    "sns.set()\n",
    "sns.set_context(\"paper\", rc={\"axes.labelsize\":20})\n",
    "rcParams['figure.figsize'] = (12, 8)"
   ]
  },
  {
   "cell_type": "code",
   "execution_count": null,
   "metadata": {},
   "outputs": [],
   "source": [
    "%%capture\n",
    "\n",
    "k = []\n",
    "r = range(4, 25, 4)\n",
    "\n",
    "for ri in r:\n",
    "    data = dump(\"dump.lammpstrj_{}\".format(ri))\n",
    "    t = data.time()\n",
    "    avg_vx = 0.0\n",
    "    avg_fx = 0.0\n",
    "\n",
    "    for ti in t:\n",
    "        vx = array(data.vecs(ti, \"vx\"))\n",
    "        fx = array(data.vecs(ti, \"vx\"))\n",
    "\n",
    "        avg_vx += vx.mean()\n",
    "        avg_fx += fx.mean()\n",
    "\n",
    "    avg_vx /= len(t)\n",
    "    mu = (0.1 * (2**2))/(4 * avg_vx)\n",
    "    k.append(avg_vx*mu*(avg_fx - 0.1))"
   ]
  },
  {
   "cell_type": "code",
   "execution_count": null,
   "metadata": {
    "scrolled": false
   },
   "outputs": [],
   "source": [
    "plot(r, k)"
   ]
  },
  {
   "cell_type": "code",
   "execution_count": null,
   "metadata": {},
   "outputs": [],
   "source": [
    "ls"
   ]
  },
  {
   "cell_type": "code",
   "execution_count": null,
   "metadata": {},
   "outputs": [],
   "source": []
  }
 ],
 "metadata": {
  "kernelspec": {
   "display_name": "Python [conda env:MDpy27]",
   "language": "python",
   "name": "conda-env-MDpy27-py"
  },
  "language_info": {
   "codemirror_mode": {
    "name": "ipython",
    "version": 2
   },
   "file_extension": ".py",
   "mimetype": "text/x-python",
   "name": "python",
   "nbconvert_exporter": "python",
   "pygments_lexer": "ipython2",
   "version": "2.7.15"
  }
 },
 "nbformat": 4,
 "nbformat_minor": 2
}
